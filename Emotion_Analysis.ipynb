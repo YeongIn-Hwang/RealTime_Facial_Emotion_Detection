{
 "cells": [
  {
   "cell_type": "code",
   "execution_count": null,
   "id": "44a4db2d",
   "metadata": {},
   "outputs": [],
   "source": [
    "from fer import FER\n",
    "import cv2\n",
    "\n",
    "def emotion_Analysis(crop_image):\n",
    "    emotion_detector = FER(mtcnn=True)  # or mtcnn=False if slow\n",
    "    result = emotion_detector.detect_emotions(crop_image)\n",
    "    return result\n"
   ]
  }
 ],
 "metadata": {
  "language_info": {
   "name": "python"
  }
 },
 "nbformat": 4,
 "nbformat_minor": 5
}
